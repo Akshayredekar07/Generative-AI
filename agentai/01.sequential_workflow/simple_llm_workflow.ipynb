{
 "cells": [
  {
   "cell_type": "code",
   "execution_count": 1,
   "id": "ec411d39",
   "metadata": {},
   "outputs": [],
   "source": [
    "## Simple LLM Workflow"
   ]
  },
  {
   "cell_type": "code",
   "execution_count": 2,
   "id": "892a2089",
   "metadata": {},
   "outputs": [],
   "source": [
    "from langgraph.graph import StateGraph, START, END\n",
    "from langchain_ollama import ChatOllama\n",
    "from typing import TypedDict"
   ]
  },
  {
   "cell_type": "code",
   "execution_count": 17,
   "id": "aa6c5a35",
   "metadata": {},
   "outputs": [
    {
     "name": "stdout",
     "output_type": "stream",
     "text": [
      "NAME                       ID              SIZE      MODIFIED   \n",
      "gemma3:4b                  a2af6cc3eb7f    3.3 GB    5 days ago    \n",
      "nomic-embed-text:latest    0a109f422b47    274 MB    8 days ago    \n",
      "llama3.2:1b                baf6a787fdff    1.3 GB    8 days ago    \n"
     ]
    }
   ],
   "source": [
    "!ollama list"
   ]
  },
  {
   "cell_type": "code",
   "execution_count": 19,
   "id": "346c04b9",
   "metadata": {},
   "outputs": [],
   "source": [
    "# model=ChatOllama(model=\"gemma3:4b\")\n",
    "model=ChatOllama(model=\"llama3.2:1b\")"
   ]
  },
  {
   "cell_type": "code",
   "execution_count": 20,
   "id": "30f36f84",
   "metadata": {},
   "outputs": [],
   "source": [
    "# Create a state  \n",
    "\n",
    "class LLMState(TypedDict):\n",
    "    question: str \n",
    "    answer: str\n",
    "    "
   ]
  },
  {
   "cell_type": "code",
   "execution_count": 21,
   "id": "3bbf6a59",
   "metadata": {},
   "outputs": [],
   "source": [
    "def llm_qa(state: LLMState) -> LLMState:\n",
    "\n",
    "    # extract the question from state \n",
    "    question = state['question']\n",
    "\n",
    "    # form the prompt \n",
    "    prompt = f\"answer the follwoing question {question}\"\n",
    "\n",
    "    # ask the question to the LLM\n",
    "    answer = model.invoke(prompt).content\n",
    "\n",
    "    # update the answer in state \n",
    "    state['answer'] = str(answer)\n",
    "\n",
    "    return state"
   ]
  },
  {
   "cell_type": "code",
   "execution_count": 22,
   "id": "86f948a8",
   "metadata": {},
   "outputs": [],
   "source": [
    "graph = StateGraph(LLMState)\n",
    "\n",
    "# add nodes \n",
    "graph.add_node('llm_qa', llm_qa)\n",
    "\n",
    "# add edge\n",
    "graph.add_edge(START, 'llm_qa')\n",
    "graph.add_edge('llm_qa', END)\n",
    "\n",
    "# compile the graph\n",
    "workflow = graph.compile()\n"
   ]
  },
  {
   "cell_type": "code",
   "execution_count": 23,
   "id": "6e0e9971",
   "metadata": {},
   "outputs": [
    {
     "name": "stdout",
     "output_type": "stream",
     "text": [
      "{'question': 'How far is moon from  the earth?', 'answer': \"The average distance from the Earth to the Moon is approximately 384,400 kilometers (238,900 miles). This distance is constantly changing due to the elliptical shape of the Moon's orbit around the Earth. At its closest point, known as perigee, the distance is about 356,400 kilometers (221,500 miles), and at its farthest point, known as apogee, the distance is about 405,500 kilometers (252,000 miles).\"}\n"
     ]
    }
   ],
   "source": [
    "# exectue \n",
    "\n",
    "inital_state: LLMState = {'question':'How far is moon from  the earth?','answer':''}\n",
    "\n",
    "final_state = workflow.invoke(inital_state)\n",
    "\n",
    "print(final_state)"
   ]
  }
 ],
 "metadata": {
  "kernelspec": {
   "display_name": ".venv",
   "language": "python",
   "name": "python3"
  },
  "language_info": {
   "codemirror_mode": {
    "name": "ipython",
    "version": 3
   },
   "file_extension": ".py",
   "mimetype": "text/x-python",
   "name": "python",
   "nbconvert_exporter": "python",
   "pygments_lexer": "ipython3",
   "version": "3.10.9"
  }
 },
 "nbformat": 4,
 "nbformat_minor": 5
}
