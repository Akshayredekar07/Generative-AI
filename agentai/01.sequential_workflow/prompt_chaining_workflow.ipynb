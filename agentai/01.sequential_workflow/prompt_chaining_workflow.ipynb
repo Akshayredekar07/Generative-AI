{
 "cells": [
  {
   "cell_type": "code",
   "execution_count": null,
   "id": "7b46cd31",
   "metadata": {},
   "outputs": [],
   "source": [
    "from langgraph.graph import StateGraph, START, END\n",
    "from langchain_ollama import ChatOllama\n",
    "from typing import TypedDict\n"
   ]
  },
  {
   "cell_type": "code",
   "execution_count": 12,
   "id": "a111e513",
   "metadata": {},
   "outputs": [
    {
     "name": "stdout",
     "output_type": "stream",
     "text": [
      "NAME                       ID              SIZE      MODIFIED   \n",
      "gemma3:4b                  a2af6cc3eb7f    3.3 GB    5 days ago    \n",
      "nomic-embed-text:latest    0a109f422b47    274 MB    8 days ago    \n",
      "llama3.2:1b                baf6a787fdff    1.3 GB    8 days ago    \n"
     ]
    }
   ],
   "source": [
    "!ollama list"
   ]
  },
  {
   "cell_type": "code",
   "execution_count": 13,
   "id": "8b14f173",
   "metadata": {},
   "outputs": [],
   "source": [
    "model=ChatOllama(model=\"llama3.2:1b\")"
   ]
  },
  {
   "cell_type": "code",
   "execution_count": 33,
   "id": "901cab47",
   "metadata": {},
   "outputs": [],
   "source": [
    "# Create a state  \n",
    "from typing import Literal\n",
    "\n",
    "class BlogState(TypedDict):\n",
    "    title: str \n",
    "    outline: str\n",
    "    content: str\n",
    "    score: int\n",
    "    "
   ]
  },
  {
   "cell_type": "code",
   "execution_count": 34,
   "id": "42dca02d",
   "metadata": {},
   "outputs": [],
   "source": [
    "def create_outline(state: BlogState) -> BlogState:\n",
    "    # fetch title \n",
    "    title=state['title']\n",
    "    prompt = f\"Generate a detailed outline for a blog on the topic {title}\"\n",
    "    outline = model.invoke(prompt).content\n",
    "    state['outline'] = str(outline)\n",
    "    return state"
   ]
  },
  {
   "cell_type": "code",
   "execution_count": 35,
   "id": "54bf6a81",
   "metadata": {},
   "outputs": [],
   "source": [
    "def create_blog(state: BlogState) -> BlogState:\n",
    "    \n",
    "    # fetch title \n",
    "    title=state['title']\n",
    "    outline = state['outline']\n",
    "    prompt = f\"write a detailed blog on the title {title} using the following outline \\n{outline}\"\n",
    "    content = model.invoke(prompt).content\n",
    "    state['content'] = str(content)\n",
    "    return state"
   ]
  },
  {
   "cell_type": "code",
   "execution_count": 36,
   "id": "2a1feeda",
   "metadata": {},
   "outputs": [],
   "source": [
    "def eval_blog(state: BlogState) -> BlogState:\n",
    "    outline = state['outline']\n",
    "    content = state['content']\n",
    "\n",
    "    prompt = f\"\"\"based on the my outline give the score in integer value in range of 1 t0 10 to the blog:\n",
    "                <outline>\n",
    "                {outline}\n",
    "                <outline>\n",
    "\n",
    "            The blog content is as:\n",
    "            <blog-content>\n",
    "            {content}\n",
    "            <blog-content>\n",
    "    \"\"\"\n",
    "    score = model.invoke(prompt).content\n",
    "    \n",
    "    try:\n",
    "        score_value = int(str(score))\n",
    "        if 1 <= score_value <= 10:\n",
    "            state['score'] = score_value\n",
    "        else:\n",
    "            state['score'] = 0  # Default score if out of range\n",
    "    except ValueError:\n",
    "        state['score'] = 0  # Default score if conversion fails\n",
    "    \n",
    "    return state"
   ]
  },
  {
   "cell_type": "code",
   "execution_count": 37,
   "id": "092135be",
   "metadata": {},
   "outputs": [
    {
     "data": {
      "image/png": "[encoded data removed]",
      "text/plain": [
       "<langgraph.graph.state.CompiledStateGraph object at 0x000002B198AC2470>"
      ]
     },
     "execution_count": 37,
     "metadata": {},
     "output_type": "execute_result"
    }
   ],
   "source": [
    "graph = StateGraph(BlogState)\n",
    "\n",
    "graph.add_node('create_outline', create_outline)\n",
    "graph.add_node('create_blog', create_blog)\n",
    "graph.add_node('eval_blog', eval_blog)\n",
    "\n",
    "graph.add_edge(START, 'create_outline')\n",
    "graph.add_edge('create_outline', 'create_blog')\n",
    "graph.add_edge('create_blog', 'eval_blog')\n",
    "graph.add_edge('eval_blog', END)\n",
    "\n",
    "graph.compile()"
   ]
  },
  {
   "cell_type": "code",
   "execution_count": 38,
   "id": "ba3e25e2",
   "metadata": {},
   "outputs": [],
   "source": [
    "workflow=graph.compile()"
   ]
  },
  {
   "cell_type": "code",
   "execution_count": 39,
   "id": "cdfbd7a2",
   "metadata": {},
   "outputs": [
    {
     "name": "stdout",
     "output_type": "stream",
     "text": [
      "{'title': 'Raise of AI in india', 'outline': 'Here\\'s a detailed outline for a blog on \"Raise of AI in India\":\\n\\n**I. Introduction**\\n\\n* Brief overview of Artificial Intelligence (AI) and its increasing presence globally\\n* Importance of AI in India\\'s economic growth, job market, and national development goals\\n* Thesis statement: The rise of AI in India presents both opportunities and challenges, and a comprehensive understanding is crucial for harnessing its potential.\\n\\n**II. History of AI in India**\\n\\n* Early introduction of AI concepts to India through research institutions like TATA Institute of Fundamental Research (TIFR) and Indian Institutes of Technology (IITs)\\n* Development of early AI systems by Indian researchers, including Rajaraman Ray and Srinivasa Ramanujan\\n* Government initiatives for promoting AI research and development in India\\n\\n**III. Current State of AI in India**\\n\\n* Overview of the current state of AI adoption in various sectors:\\n    + Healthcare: applications in diagnosis, treatment, and research\\n    + Education: adaptive learning systems and personalized education\\n    + Manufacturing: automation, quality control, and supply chain management\\n    + Transportation: self-driving cars and drones\\n    + Finance: predictive analytics and risk management\\n\\n**IV. Job Market Impact of AI in India**\\n\\n* Analysis of the job market impact of AI on various industries:\\n    + Job displacement vs. creation: which industry is creating more jobs?\\n    + Emerging fields for job seekers: data science, machine learning engineering, etc.\\n    + Skill gaps: which skills are required to remain employable?\\n\\n**V. Economic Benefits of AI in India**\\n\\n* Discussion of the economic benefits of AI in India:\\n    + Increased productivity and efficiency\\n    + New business opportunities and growth\\n    + Foreign investment and trade\\n    + Job creation and stimulation\\n\\n**VI. Regulatory Framework for AI in India**\\n\\n* Overview of existing regulations and frameworks governing AI development, deployment, and use:\\n    + Data protection laws (e.g., GDPR, IP law)\\n    + Privacy regulations (e.g., PDD 2006, NPCS Act)\\n    + Cybersecurity standards\\n    + Intellectual property rights\\n\\n**VII. Challenges Faced by India in Raising AI**\\n\\n* Discussion of the challenges faced by India in raising its AI capabilities:\\n    + Limited access to computing resources and data\\n    + Skill shortages: lack of expertise in areas like machine learning, computer vision, etc.\\n    + Regulatory frameworks: inadequate or inconsistent regulations\\n    + Funding: insufficient investment for AI research and development\\n\\n**VIII. Future Outlook for AI in India**\\n\\n* Analysis of the future outlook for AI in India:\\n    + Emerging trends and technologies (e.g., 5G, IoT)\\n    + Government initiatives to accelerate AI adoption\\n    + Private sector investments and partnerships\\n    + Social implications: benefits vs. drawbacks\\n\\n**IX. Conclusion**\\n\\n* Recap of key points discussed in the blog post\\n* Final thoughts on the importance of addressing challenges to realize India\\'s potential as a leader in AI development.\\n\\nThis outline should provide a solid foundation for writing a comprehensive blog post on the topic \"Raise of AI in India\".', 'content': 'Here is a detailed blog post based on the provided outline:\\n\\n**The Rise of AI in India: Opportunities and Challenges**\\n\\nArtificial Intelligence (AI) has been a global phenomenon for several years, with its impact extending far beyond the technology industry. In recent times, the Indian government has actively pursued the development and adoption of AI to drive economic growth, create new job opportunities, and improve national development goals. However, this rise in AI also presents both opportunities and challenges that require careful consideration.\\n\\n**A Brief Overview of Artificial Intelligence**\\n\\nArtificial Intelligence is a broad field that encompasses a range of techniques for creating intelligent machines that can perform tasks that typically require human intelligence, such as learning, problem-solving, decision-making, and perception. The field of AI has made significant strides in recent years, with various applications emerging across industries like healthcare, education, manufacturing, transportation, finance, and more.\\n\\n**History of AI in India**\\n\\nThe concept of AI was first introduced to India through research institutions like the Tata Institute of Fundamental Research (TATA Institute of Fundamental Research) and Indian Institutes of Technology (IITs). In the 1950s, researchers like Rajaraman Ray and Srinivasa Ramanujan began exploring the possibilities of using computers for scientific calculations. The government has since actively supported AI research and development through various initiatives.\\n\\n**Current State of AI in India**\\n\\nThe current state of AI adoption in India is a mixed bag. In some sectors, such as healthcare and education, AI is being successfully applied to improve efficiency and outcomes. For example, AI-powered diagnostic systems have enabled doctors to diagnose diseases more accurately and quickly, while adaptive learning systems in education have improved student performance.\\n\\nHowever, in other sectors, such as manufacturing and transportation, AI is still in its infancy. Despite government initiatives like the National Policy on Information Technology (2012) and the Data Science Challenge 2020, which aimed to promote AI research and development, there are significant challenges that need to be addressed.\\n\\n**Job Market Impact of AI in India**\\n\\nThe job market impact of AI in India is a complex issue. On one hand, AI has the potential to create new job opportunities across various sectors. According to a report by the World Economic Forum, India\\'s workforce is expected to grow from 372 million people in 2018 to over 444 million by 2022, while at the same time, the sector with the largest growth rate will be IT and data science.\\n\\nHowever, on the other hand, AI has also led to job displacement, particularly in sectors where automation is likely. A study by the McKinsey Global Institute found that up to 800 million jobs could be lost worldwide due to automation, and India\\'s labor market is expected to face significant challenges as a result.\\n\\n**Economic Benefits of AI in India**\\n\\nThe economic benefits of AI in India are numerous. According to a report by PwC, the Indian government can expect significant tax revenue from implementing AI-related policies and regulations. Additionally, AI has the potential to boost GDP growth, increase productivity, and create new business opportunities.\\n\\nMoreover, foreign investment and trade have been stimulated by the success of Indian companies in leveraging AI technologies like cloud computing, data analytics, and cybersecurity. The Indian government has also taken steps to promote AI adoption through various initiatives, including the National AI Mission (2020), which aims to make India a hub for AI research and development.\\n\\n**Regulatory Framework for AI in India**\\n\\nThe regulatory framework for AI in India is still evolving. While there are some regulations in place, such as data protection laws like the Data Protection Act 2004 and the Information Technology Act 2000, more needs to be done to address the challenges posed by AI.\\n\\nFor example, the government has introduced several rules requiring companies to provide transparency about their use of AI-powered decision-making processes. However, more comprehensive regulations are needed to ensure that companies are using AI responsibly and in accordance with national laws.\\n\\n**Challenges Faced by India in Raising AI**\\n\\nDespite its potential benefits, India faces significant challenges in raising its AI capabilities. One major challenge is the limited access to computing resources and data. The country\\'s IT infrastructure is still developing, which makes it difficult for companies to leverage AI technologies like cloud computing and big data.\\n\\nAnother challenge is the lack of expertise in areas like machine learning, computer vision, and natural language processing. Many Indian researchers and developers are not familiar with these areas, making it challenging to develop and deploy AI systems that can make significant contributions to national development goals.\\n\\n**Conclusion**\\n\\nThe rise of AI in India presents both opportunities and challenges. While AI has the potential to create new job opportunities, improve economic growth, and promote foreign investment and trade, there are also significant regulatory frameworks and skill gaps that need to be addressed.\\n\\nTo realize its potential as a leader in AI development, India must prioritize research and development, invest in IT infrastructure, and promote AI literacy. The government should also provide incentives for companies to adopt AI technologies and create jobs in the field. By addressing these challenges and capitalizing on the opportunities presented by AI, India can harness its full potential and become a major player in the global AI ecosystem.\\n\\n**Additional Resources**\\n\\n* National Policy on Information Technology (2012)\\n* Data Science Challenge 2020\\n* McKinsey Global Institute: \"A future that works: Automation, employment, and productivity\"\\n* PwC: \"The Future of Work: How to thrive in an AI-driven economy\"\\n\\nNote: This blog post is a sample based on the provided outline. You can modify it as per your requirements and add more details to make it more comprehensive and engaging for your readers.', 'score': 0}\n"
     ]
    }
   ],
   "source": [
    "initial_state:BlogState = {'title':'Raise of AI in india', 'outline':'', 'content':'', 'eval_blog':''}\n",
    "\n",
    "final_state = workflow.invoke(initial_state)\n",
    "\n",
    "print(final_state)"
   ]
  },
  {
   "cell_type": "code",
   "execution_count": 40,
   "id": "58606f40",
   "metadata": {},
   "outputs": [
    {
     "data": {
      "text/plain": [
       "'Here\\'s a detailed outline for a blog on \"Raise of AI in India\":\\n\\n**I. Introduction**\\n\\n* Brief overview of Artificial Intelligence (AI) and its increasing presence globally\\n* Importance of AI in India\\'s economic growth, job market, and national development goals\\n* Thesis statement: The rise of AI in India presents both opportunities and challenges, and a comprehensive understanding is crucial for harnessing its potential.\\n\\n**II. History of AI in India**\\n\\n* Early introduction of AI concepts to India through research institutions like TATA Institute of Fundamental Research (TIFR) and Indian Institutes of Technology (IITs)\\n* Development of early AI systems by Indian researchers, including Rajaraman Ray and Srinivasa Ramanujan\\n* Government initiatives for promoting AI research and development in India\\n\\n**III. Current State of AI in India**\\n\\n* Overview of the current state of AI adoption in various sectors:\\n    + Healthcare: applications in diagnosis, treatment, and research\\n    + Education: adaptive learning systems and personalized education\\n    + Manufacturing: automation, quality control, and supply chain management\\n    + Transportation: self-driving cars and drones\\n    + Finance: predictive analytics and risk management\\n\\n**IV. Job Market Impact of AI in India**\\n\\n* Analysis of the job market impact of AI on various industries:\\n    + Job displacement vs. creation: which industry is creating more jobs?\\n    + Emerging fields for job seekers: data science, machine learning engineering, etc.\\n    + Skill gaps: which skills are required to remain employable?\\n\\n**V. Economic Benefits of AI in India**\\n\\n* Discussion of the economic benefits of AI in India:\\n    + Increased productivity and efficiency\\n    + New business opportunities and growth\\n    + Foreign investment and trade\\n    + Job creation and stimulation\\n\\n**VI. Regulatory Framework for AI in India**\\n\\n* Overview of existing regulations and frameworks governing AI development, deployment, and use:\\n    + Data protection laws (e.g., GDPR, IP law)\\n    + Privacy regulations (e.g., PDD 2006, NPCS Act)\\n    + Cybersecurity standards\\n    + Intellectual property rights\\n\\n**VII. Challenges Faced by India in Raising AI**\\n\\n* Discussion of the challenges faced by India in raising its AI capabilities:\\n    + Limited access to computing resources and data\\n    + Skill shortages: lack of expertise in areas like machine learning, computer vision, etc.\\n    + Regulatory frameworks: inadequate or inconsistent regulations\\n    + Funding: insufficient investment for AI research and development\\n\\n**VIII. Future Outlook for AI in India**\\n\\n* Analysis of the future outlook for AI in India:\\n    + Emerging trends and technologies (e.g., 5G, IoT)\\n    + Government initiatives to accelerate AI adoption\\n    + Private sector investments and partnerships\\n    + Social implications: benefits vs. drawbacks\\n\\n**IX. Conclusion**\\n\\n* Recap of key points discussed in the blog post\\n* Final thoughts on the importance of addressing challenges to realize India\\'s potential as a leader in AI development.\\n\\nThis outline should provide a solid foundation for writing a comprehensive blog post on the topic \"Raise of AI in India\".'"
      ]
     },
     "execution_count": 40,
     "metadata": {},
     "output_type": "execute_result"
    }
   ],
   "source": [
    "final_state['outline']"
   ]
  },
  {
   "cell_type": "code",
   "execution_count": 41,
   "id": "7232fc03",
   "metadata": {},
   "outputs": [
    {
     "data": {
      "text/plain": [
       "'Raise of AI in india'"
      ]
     },
     "execution_count": 41,
     "metadata": {},
     "output_type": "execute_result"
    }
   ],
   "source": [
    "final_state['title']"
   ]
  },
  {
   "cell_type": "code",
   "execution_count": 42,
   "id": "9162b5cc",
   "metadata": {},
   "outputs": [
    {
     "data": {
      "text/plain": [
       "0"
      ]
     },
     "execution_count": 42,
     "metadata": {},
     "output_type": "execute_result"
    }
   ],
   "source": [
    "final_state['score']"
   ]
  },
  {
   "cell_type": "code",
   "execution_count": null,
   "id": "81fcc13e",
   "metadata": {},
   "outputs": [],
   "source": []
  }
 ],
 "metadata": {
  "kernelspec": {
   "display_name": ".venv",
   "language": "python",
   "name": "python3"
  },
  "language_info": {
   "codemirror_mode": {
    "name": "ipython",
    "version": 3
   },
   "file_extension": ".py",
   "mimetype": "text/x-python",
   "name": "python",
   "nbconvert_exporter": "python",
   "pygments_lexer": "ipython3",
   "version": "3.10.9"
  }
 },
 "nbformat": 4,
 "nbformat_minor": 5
}
