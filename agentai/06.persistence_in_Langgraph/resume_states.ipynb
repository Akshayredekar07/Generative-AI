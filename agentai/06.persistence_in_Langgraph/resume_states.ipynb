{
 "cells": [
  {
   "cell_type": "code",
   "execution_count": 1,
   "id": "77cce9c3",
   "metadata": {},
   "outputs": [],
   "source": [
    "from langgraph.graph import StateGraph, START, END\n",
    "from typing import TypedDict, Annotated\n",
    "from langchain_core.messages import BaseMessage, HumanMessage\n",
    "from langchain_ollama import ChatOllama \n",
    "from langgraph.checkpoint.memory import InMemorySaver\n",
    "import time"
   ]
  },
  {
   "cell_type": "code",
   "execution_count": 2,
   "id": "a379d87a",
   "metadata": {},
   "outputs": [],
   "source": [
    "# 1. Define the state\n",
    "class CrashState(TypedDict):\n",
    "    input: str\n",
    "    step1: str\n",
    "    step2: str\n",
    "    step3: str"
   ]
  },
  {
   "cell_type": "code",
   "execution_count": 10,
   "id": "42dd12ed",
   "metadata": {},
   "outputs": [],
   "source": [
    "def step_1(state: CrashState):\n",
    "    print(\"✅ Step 1 executed\")\n",
    "    return {\"step1\": \"done\", \"input\": state[\"input\"]}\n",
    "\n",
    "def step_2(state: CrashState) :\n",
    "    print(\"⚠️ Step 2 hanging... now manually interrupt from the notebook toolbar (STOP button)\")\n",
    "    time.sleep(30)  # Simulate long-running hang\n",
    "    return {\"step2\": \"done\"}\n",
    "\n",
    "def step_3(state: CrashState):\n",
    "    return {\"step3\": \"done\"}"
   ]
  },
  {
   "cell_type": "code",
   "execution_count": 11,
   "id": "3b72ea8d",
   "metadata": {},
   "outputs": [
    {
     "data": {
      "image/png": "[encoded data removed]",
      "text/plain": [
       "<langgraph.graph.state.CompiledStateGraph object at 0x000002070FC3EB60>"
      ]
     },
     "execution_count": 11,
     "metadata": {},
     "output_type": "execute_result"
    }
   ],
   "source": [
    "# 3. Build the graph\n",
    "workflow = StateGraph(CrashState)\n",
    "\n",
    "# Add nodes\n",
    "workflow.add_node(\"step1\", step_1)\n",
    "workflow.add_node(\"step2\", step_2)\n",
    "workflow.add_node(\"step3\", step_3)\n",
    "\n",
    "# Add edges\n",
    "workflow.add_edge(START, \"step1\")\n",
    "workflow.add_edge(\"step1\", \"step2\")\n",
    "workflow.add_edge(\"step2\", \"step3\")\n",
    "workflow.add_edge(\"step3\", END)\n",
    "\n",
    "# 4. Compile with checkpoint saver for persistence\n",
    "memory = InMemorySaver()\n",
    "app = workflow.compile(checkpointer=memory)\n",
    "app"
   ]
  },
  {
   "cell_type": "code",
   "execution_count": 12,
   "id": "128018e2",
   "metadata": {},
   "outputs": [],
   "source": [
    "# 5. Run the workflow\n",
    "config1 = {\"configurable\": {\"thread_id\": \"thread-1\"}}"
   ]
  },
  {
   "cell_type": "code",
   "execution_count": 8,
   "id": "77e465c8",
   "metadata": {},
   "outputs": [
    {
     "name": "stdout",
     "output_type": "stream",
     "text": [
      "✅ Step 1 executed\n",
      "⚠️ Step 2 hanging... now manually interrupt from the notebook toolbar (STOP button)\n",
      "Final result: {'input': 'Starting crash demo workflow', 'step1': 'done', 'step2': 'done', 'step3': 'done'}\n"
     ]
    }
   ],
   "source": [
    "\n",
    "\n",
    "try:\n",
    "    result = app.invoke(\n",
    "        {\"input\": \"Starting crash demo workflow\", \"step1\": \"\", \"step2\": \"\", \"step3\": \"\"}, \n",
    "        config=config1\n",
    "    )\n",
    "    print(\"Final result:\", result)\n",
    "except KeyboardInterrupt:\n",
    "    print(\"⚠️ Workflow interrupted! State saved to checkpoint.\")\n",
    "    print(\"You can resume from the last checkpoint.\")"
   ]
  },
  {
   "cell_type": "code",
   "execution_count": 7,
   "id": "e9ad421c",
   "metadata": {},
   "outputs": [
    {
     "data": {
      "text/plain": [
       "[]"
      ]
     },
     "execution_count": 7,
     "metadata": {},
     "output_type": "execute_result"
    }
   ],
   "source": [
    "list(app.get_state_history(config1))"
   ]
  },
  {
   "cell_type": "code",
   "execution_count": 14,
   "id": "d09e5e04",
   "metadata": {},
   "outputs": [
    {
     "ename": "SyntaxError",
     "evalue": "invalid syntax (2065114886.py, line 2)",
     "output_type": "error",
     "traceback": [
      "\u001b[1;36m  Cell \u001b[1;32mIn[14], line 2\u001b[1;36m\u001b[0m\n\u001b[1;33m    \"input\": \"\",\u001b[0m\n\u001b[1;37m           ^\u001b[0m\n\u001b[1;31mSyntaxError\u001b[0m\u001b[1;31m:\u001b[0m invalid syntax\n"
     ]
    }
   ],
   "source": [
    "\n",
    "result = app.invoke(\n",
    "        \"input\": \"\", \n",
    "        config=config1\n",
    ")\n",
    "\n",
    "print(\"Final result:\", result)\n"
   ]
  },
  {
   "cell_type": "code",
   "execution_count": null,
   "id": "3aa8d30d",
   "metadata": {},
   "outputs": [],
   "source": []
  },
  {
   "cell_type": "code",
   "execution_count": null,
   "id": "c2c10884",
   "metadata": {},
   "outputs": [],
   "source": []
  }
 ],
 "metadata": {
  "kernelspec": {
   "display_name": "Langchain",
   "language": "python",
   "name": "python3"
  },
  "language_info": {
   "codemirror_mode": {
    "name": "ipython",
    "version": 3
   },
   "file_extension": ".py",
   "mimetype": "text/x-python",
   "name": "python",
   "nbconvert_exporter": "python",
   "pygments_lexer": "ipython3",
   "version": "3.10.9"
  }
 },
 "nbformat": 4,
 "nbformat_minor": 5
}
