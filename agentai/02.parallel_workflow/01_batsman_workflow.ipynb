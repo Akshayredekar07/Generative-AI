{
 "cells": [
  {
   "cell_type": "code",
   "execution_count": 10,
   "id": "458db18e",
   "metadata": {},
   "outputs": [],
   "source": [
    "from langgraph.graph import StateGraph, START, END\n",
    "from typing import TypedDict"
   ]
  },
  {
   "cell_type": "code",
   "execution_count": 18,
   "id": "92f74496",
   "metadata": {},
   "outputs": [],
   "source": [
    "class BatsmanState(TypedDict):\n",
    "\n",
    "    runs:int\n",
    "    balls:int\n",
    "    fours:int\n",
    "    sixes:int \n",
    "\n",
    "    sr: float\n",
    "    bpb:float\n",
    "    boundry_percent:float\n",
    "    summary:str\n",
    "    "
   ]
  },
  {
   "cell_type": "code",
   "execution_count": 26,
   "id": "4b482eb8",
   "metadata": {},
   "outputs": [],
   "source": [
    "def calculate_sr(state:BatsmanState):\n",
    "\n",
    "    sr = (state['runs']/state['balls'])*100\n",
    "    return {'sr': sr}"
   ]
  },
  {
   "cell_type": "code",
   "execution_count": 27,
   "id": "4ee5fcb9",
   "metadata": {},
   "outputs": [],
   "source": [
    "def calculate_bpb(state: BatsmanState):\n",
    "\n",
    "    bpb = state['balls']/(state['fours']+state['sixes'])\n",
    "    return {'bpb':bpb}"
   ]
  },
  {
   "cell_type": "code",
   "execution_count": 28,
   "id": "ffb1b111",
   "metadata": {},
   "outputs": [],
   "source": [
    "def calculate_boundry_percent(state: BatsmanState):\n",
    "\n",
    "    boundry_percent = (((state['fours']*4 + state['sixes']*6))/state['runs'])*100\n",
    "    return {'boundry_percent':boundry_percent}"
   ]
  },
  {
   "cell_type": "code",
   "execution_count": 29,
   "id": "a6564951",
   "metadata": {},
   "outputs": [],
   "source": [
    "def summary(state: BatsmanState):\n",
    "    summary = f\"\"\"\n",
    "    Strike rate- {state['sr']}\\n\n",
    "    Balls per boundry- {state['bpb']}\\n\n",
    "    Boundry percent- {state['boundry_percent']}\\n\n",
    "    \"\"\"\n",
    "    return {'summary':summary}"
   ]
  },
  {
   "cell_type": "code",
   "execution_count": 30,
   "id": "bb6ec58d",
   "metadata": {},
   "outputs": [],
   "source": [
    "graph= StateGraph(BatsmanState)\n",
    "\n",
    "graph.add_node('calculate_sr', calculate_sr)\n",
    "graph.add_node('calculate_bpb', calculate_bpb)\n",
    "graph.add_node('calculate_boundry_percent', calculate_boundry_percent)\n",
    "graph.add_node('summary', summary)\n",
    "\n",
    "# Edges \n",
    "graph.add_edge(START, 'calculate_sr')\n",
    "graph.add_edge(START, 'calculate_bpb')\n",
    "graph.add_edge(START, 'calculate_boundry_percent')\n",
    "\n",
    "graph.add_edge('calculate_sr', 'summary')\n",
    "graph.add_edge('calculate_bpb', 'summary')\n",
    "graph.add_edge('calculate_boundry_percent', 'summary')\n",
    "\n",
    "graph.add_edge('summary', END)\n",
    "\n",
    "workflow = graph.compile()"
   ]
  },
  {
   "cell_type": "code",
   "execution_count": 31,
   "id": "9a8fda39",
   "metadata": {},
   "outputs": [
    {
     "data": {
      "image/png": "[encoded data removed]",
      "text/plain": [
       "<langgraph.graph.state.CompiledStateGraph object at 0x000001E11238E9E0>"
      ]
     },
     "execution_count": 31,
     "metadata": {},
     "output_type": "execute_result"
    }
   ],
   "source": [
    "workflow"
   ]
  },
  {
   "cell_type": "code",
   "execution_count": 32,
   "id": "2f9c56d5",
   "metadata": {},
   "outputs": [],
   "source": [
    "initial_state: BatsmanState = {\n",
    "    'runs':100,\n",
    "    'balls':50,\n",
    "    'fours':6,\n",
    "    'sixes':4,\n",
    "    'sr': 0.0,\n",
    "    'bpb':0.0,\n",
    "    'boundry_percent':0.0,\n",
    "    'summary':\"\"\n",
    "}"
   ]
  },
  {
   "cell_type": "code",
   "execution_count": 33,
   "id": "f4389762",
   "metadata": {},
   "outputs": [
    {
     "name": "stdout",
     "output_type": "stream",
     "text": [
      "{'runs': 100, 'balls': 50, 'fours': 6, 'sixes': 4, 'sr': 200.0, 'bpb': 5.0, 'boundry_percent': 48.0, 'summary': '\\n    Strike rate- 200.0\\n\\n    Balls per boundry- 5.0\\n\\n    Boundry percent- 48.0\\n\\n    '}\n"
     ]
    }
   ],
   "source": [
    "final_state = workflow.invoke(initial_state)\n",
    "print(final_state)"
   ]
  }
 ],
 "metadata": {
  "kernelspec": {
   "display_name": "Langchain",
   "language": "python",
   "name": "python3"
  },
  "language_info": {
   "codemirror_mode": {
    "name": "ipython",
    "version": 3
   },
   "file_extension": ".py",
   "mimetype": "text/x-python",
   "name": "python",
   "nbconvert_exporter": "python",
   "pygments_lexer": "ipython3",
   "version": "3.10.9"
  }
 },
 "nbformat": 4,
 "nbformat_minor": 5
}
