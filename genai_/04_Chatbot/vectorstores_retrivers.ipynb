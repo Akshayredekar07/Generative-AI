{
 "cells": [
  {
   "cell_type": "code",
   "execution_count": null,
   "id": "71c2fa78",
   "metadata": {},
   "outputs": [],
   "source": [
    "from langchain_core.documents import Document\n",
    "\n",
    "documents = [\n",
    "    Document(\n",
    "        page_content=\"Dogs are great companions, known for their loyalty and friendliness.\",\n",
    "        metadata={\"source\": \"mammal-pets-doc\"},\n",
    "    ),\n",
    "    Document(\n",
    "        page_content=\"Cats are independent pets that often enjoy their own space.\",\n",
    "        metadata={\"source\": \"mammal-pets-doc\"},\n",
    "    ),\n",
    "    Document(\n",
    "        page_content=\"Goldfish are popular pets for beginners, requiring relatively simple care.\",\n",
    "        metadata={\"source\": \"fish-pets-doc\"},\n",
    "    ),\n",
    "    Document(\n",
    "        page_content=\"Parrots are intelligent birds capable of mimicking human speech.\",\n",
    "        metadata={\"source\": \"bird-pets-doc\"},\n",
    "    ), \n",
    "    Document(\n",
    "        page_content=\"Rabbits are social animals that need plenty of space to hop around.\",\n",
    "        metadata={\"source\": \"mammal-pets-doc\"},\n",
    "    ),\n",
    "]"
   ]
  },
  {
   "cell_type": "code",
   "execution_count": 3,
   "id": "3194dea7",
   "metadata": {},
   "outputs": [
    {
     "data": {
      "text/plain": [
       "[Document(metadata={'source': 'mammal-pets-doc'}, page_content='Dogs are great companions, known for their loyalty and friendliness.'),\n",
       " Document(metadata={'source': 'mammal-pets-doc'}, page_content='Cats are independent pets that often enjoy their own space.'),\n",
       " Document(metadata={'source': 'fish-pets-doc'}, page_content='Goldfish are popular pets for beginners, requiring relatively simple care.'),\n",
       " Document(metadata={'source': 'bird-pets-doc'}, page_content='Parrots are intelligent birds capable of mimicking human speech.'),\n",
       " Document(metadata={'source': 'mammal-pets-doc'}, page_content='Rabbits are social animals that need plenty of space to hop around.')]"
      ]
     },
     "execution_count": 3,
     "metadata": {},
     "output_type": "execute_result"
    }
   ],
   "source": [
    "documents"
   ]
  },
  {
   "cell_type": "code",
   "execution_count": 4,
   "id": "1754d55d",
   "metadata": {},
   "outputs": [
    {
     "data": {
      "text/plain": [
       "True"
      ]
     },
     "execution_count": 4,
     "metadata": {},
     "output_type": "execute_result"
    }
   ],
   "source": [
    "from dotenv import load_dotenv\n",
    "load_dotenv()"
   ]
  },
  {
   "cell_type": "code",
   "execution_count": 5,
   "id": "5e38d7c1",
   "metadata": {},
   "outputs": [
    {
     "data": {
      "text/plain": [
       "ChatGroq(client=<groq.resources.chat.completions.Completions object at 0x0000015DD78E3790>, async_client=<groq.resources.chat.completions.AsyncCompletions object at 0x0000015DD790D9C0>, model_name='Llama3-8b-8192', model_kwargs={}, groq_api_key=SecretStr('**********'))"
      ]
     },
     "execution_count": 5,
     "metadata": {},
     "output_type": "execute_result"
    }
   ],
   "source": [
    "from langchain_groq import ChatGroq\n",
    "llm=ChatGroq(model=\"Llama3-8b-8192\")\n",
    "llm"
   ]
  },
  {
   "cell_type": "code",
   "execution_count": 6,
   "id": "7c165b6c",
   "metadata": {},
   "outputs": [],
   "source": [
    "# Set HF cache\n",
    "import os\n",
    "os.environ['HF_HOME'] = 'D:/huggingface_cache'"
   ]
  },
  {
   "cell_type": "code",
   "execution_count": null,
   "id": "9e45a03f",
   "metadata": {},
   "outputs": [],
   "source": [
    "from langchain_huggingface import HuggingFaceEmbeddings\n",
    "embeddings=HuggingFaceEmbeddings(\n",
    "    model_name=\"sentence-transformers/all-MiniLM-L6-v2\"\n",
    ")"
   ]
  },
  {
   "cell_type": "code",
   "execution_count": 8,
   "id": "ed63d0e2",
   "metadata": {},
   "outputs": [
    {
     "data": {
      "text/plain": [
       "<langchain_chroma.vectorstores.Chroma at 0x15d94fe7670>"
      ]
     },
     "execution_count": 8,
     "metadata": {},
     "output_type": "execute_result"
    }
   ],
   "source": [
    "# Vector stores \n",
    "from langchain_chroma import Chroma\n",
    "vectorstore = Chroma.from_documents(documents, embeddings)\n",
    "vectorstore"
   ]
  },
  {
   "cell_type": "code",
   "execution_count": 9,
   "id": "d7a86b49",
   "metadata": {},
   "outputs": [
    {
     "data": {
      "text/plain": [
       "[Document(id='c09f3dfd-8af3-4cd3-bd16-90f573ce8342', metadata={'source': 'mammal-pets-doc'}, page_content='Cats are independent pets that often enjoy their own space.'),\n",
       " Document(id='96727245-80f6-4ff4-9828-00e2746c4ab9', metadata={'source': 'mammal-pets-doc'}, page_content='Dogs are great companions, known for their loyalty and friendliness.'),\n",
       " Document(id='b670b57f-ba6d-468b-9a9b-483b37a64c70', metadata={'source': 'mammal-pets-doc'}, page_content='Rabbits are social animals that need plenty of space to hop around.'),\n",
       " Document(id='2536202c-3bdc-4cfd-862e-afee2eeafea5', metadata={'source': 'bird-pets-doc'}, page_content='Parrots are intelligent birds capable of mimicking human speech.')]"
      ]
     },
     "execution_count": 9,
     "metadata": {},
     "output_type": "execute_result"
    }
   ],
   "source": [
    "vectorstore.similarity_search(\"cat\")"
   ]
  },
  {
   "cell_type": "code",
   "execution_count": 10,
   "id": "95eeb961",
   "metadata": {},
   "outputs": [
    {
     "data": {
      "text/plain": [
       "[Document(id='c09f3dfd-8af3-4cd3-bd16-90f573ce8342', metadata={'source': 'mammal-pets-doc'}, page_content='Cats are independent pets that often enjoy their own space.'),\n",
       " Document(id='96727245-80f6-4ff4-9828-00e2746c4ab9', metadata={'source': 'mammal-pets-doc'}, page_content='Dogs are great companions, known for their loyalty and friendliness.'),\n",
       " Document(id='b670b57f-ba6d-468b-9a9b-483b37a64c70', metadata={'source': 'mammal-pets-doc'}, page_content='Rabbits are social animals that need plenty of space to hop around.'),\n",
       " Document(id='2536202c-3bdc-4cfd-862e-afee2eeafea5', metadata={'source': 'bird-pets-doc'}, page_content='Parrots are intelligent birds capable of mimicking human speech.')]"
      ]
     },
     "execution_count": 10,
     "metadata": {},
     "output_type": "execute_result"
    }
   ],
   "source": [
    "# Async query\n",
    "await vectorstore.asimilarity_search(\"cat\")"
   ]
  },
  {
   "cell_type": "code",
   "execution_count": 11,
   "id": "e3a4ae5e",
   "metadata": {},
   "outputs": [
    {
     "data": {
      "text/plain": [
       "[[Document(id='c09f3dfd-8af3-4cd3-bd16-90f573ce8342', metadata={'source': 'mammal-pets-doc'}, page_content='Cats are independent pets that often enjoy their own space.')],\n",
       " [Document(id='96727245-80f6-4ff4-9828-00e2746c4ab9', metadata={'source': 'mammal-pets-doc'}, page_content='Dogs are great companions, known for their loyalty and friendliness.')]]"
      ]
     },
     "execution_count": 11,
     "metadata": {},
     "output_type": "execute_result"
    }
   ],
   "source": [
    "## Retreviers\n",
    "from typing import List\n",
    "from langchain_core.documents import Document\n",
    "from langchain_core.runnables import RunnableLambda\n",
    "\n",
    "retriver=RunnableLambda(vectorstore.similarity_search).bind(k=1)\n",
    "retriver.batch(['cat', 'dog'])"
   ]
  },
  {
   "cell_type": "code",
   "execution_count": 13,
   "id": "11becd88",
   "metadata": {},
   "outputs": [
    {
     "data": {
      "text/plain": [
       "[[Document(id='c09f3dfd-8af3-4cd3-bd16-90f573ce8342', metadata={'source': 'mammal-pets-doc'}, page_content='Cats are independent pets that often enjoy their own space.')],\n",
       " [Document(id='96727245-80f6-4ff4-9828-00e2746c4ab9', metadata={'source': 'mammal-pets-doc'}, page_content='Dogs are great companions, known for their loyalty and friendliness.')]]"
      ]
     },
     "execution_count": 13,
     "metadata": {},
     "output_type": "execute_result"
    }
   ],
   "source": [
    "retriever=vectorstore.as_retriever(\n",
    "    search_type=\"similarity\",\n",
    "    search_kwargs={'k':1}\n",
    ")\n",
    "retriever.batch([\"cat\", \"dog\"])"
   ]
  },
  {
   "cell_type": "code",
   "execution_count": 15,
   "id": "02efa0a4",
   "metadata": {},
   "outputs": [],
   "source": [
    "from langchain_core.prompts import ChatPromptTemplate\n",
    "from langchain_core.runnables import RunnablePassthrough\n",
    "\n",
    "message=\"\"\"\n",
    "Answer this question using provided context only\n",
    "{question}\n",
    "\n",
    "- context:\n",
    "{context} \n",
    "\"\"\"\n",
    "\n",
    "prompt=ChatPromptTemplate([\"human\", message])\n",
    "\n",
    "rag_chain = {\"context\":retriever, \"question\":RunnablePassthrough()}|prompt|llm\n",
    "\n",
    "response = rag_chain.invoke(\"Tell me about dogs\")"
   ]
  },
  {
   "cell_type": "code",
   "execution_count": 17,
   "id": "8743ceeb",
   "metadata": {},
   "outputs": [
    {
     "data": {
      "text/plain": [
       "'Unfortunately, the provided context does not mention dogs. The context only talks about humans.'"
      ]
     },
     "execution_count": 17,
     "metadata": {},
     "output_type": "execute_result"
    }
   ],
   "source": [
    "response.content"
   ]
  },
  {
   "cell_type": "code",
   "execution_count": null,
   "id": "e291f44e",
   "metadata": {},
   "outputs": [],
   "source": []
  },
  {
   "cell_type": "code",
   "execution_count": null,
   "id": "695ed3c0",
   "metadata": {},
   "outputs": [],
   "source": [
    "# Import necessary libraries for document handling, LLM, embeddings, vector store, and RAG chain\n",
    "from langchain_core.documents import Document\n",
    "from langchain_groq import ChatGroq\n",
    "from langchain_huggingface import HuggingFaceEmbeddings\n",
    "from langchain_chroma import Chroma\n",
    "from langchain_core.prompts import ChatPromptTemplate\n",
    "from langchain_core.runnables import RunnablePassthrough, RunnableLambda\n",
    "from typing import List\n",
    "from dotenv import load_dotenv\n",
    "import os\n",
    "\n",
    "# Dry Run: Load environment variables\n",
    "# - load_dotenv() reads .env file containing GROQ_API_KEY for ChatGroq\n",
    "# - Example: .env file has GROQ_API_KEY=\"abc123\"\n",
    "# - Output: Environment variable GROQ_API_KEY is set for use\n",
    "load_dotenv()\n",
    "\n",
    "# Dry Run: Set HuggingFace cache directory\n",
    "# - Sets HF_HOME to 'D:/huggingface_cache' for storing embedding model files\n",
    "# - Ensures embeddings are cached locally to avoid repeated downloads\n",
    "# - Example: Directory 'D:/huggingface_cache' is used for model storage\n",
    "os.environ['HF_HOME'] = 'D:/huggingface_cache'\n",
    "\n",
    "# Dry Run: Define documents\n",
    "# - Creates a list of 5 Document objects, each with page_content and metadata\n",
    "# - Example document for dogs:\n",
    "#   - page_content: \"Dogs are great companions, known for their loyalty and friendliness.\"\n",
    "#   - metadata: {\"source\": \"mammal-pets-doc\"}\n",
    "# - Output: List of 5 Document objects stored in 'documents'\n",
    "documents = [\n",
    "    Document(\n",
    "        page_content=\"Dogs are great companions, known for their loyalty and friendliness.\",\n",
    "        metadata={\"source\": \"mammal-pets-doc\"},\n",
    "    ),\n",
    "    Document(\n",
    "        page_content=\"Cats are independent pets that often enjoy their own space.\",\n",
    "        metadata={\"source\": \"mammal-pets-doc\"},\n",
    "    ),\n",
    "    Document(\n",
    "        page_content=\"Goldfish are popular pets for beginners, requiring relatively simple care.\",\n",
    "        metadata={\"source\": \"fish-pets-doc\"},\n",
    "    ),\n",
    "    Document(\n",
    "        page_content=\"Parrots are intelligent birds capable of mimicking human speech.\",\n",
    "        metadata={\"source\": \"bird-pets-doc\"},\n",
    "    ),\n",
    "    Document(\n",
    "        page_content=\"Rabbits are social animals that need plenty of space to hop around.\",\n",
    "        metadata={\"source\": \"mammal-pets-doc\"},\n",
    "    ),\n",
    "]\n",
    "\n",
    "# Dry Run: Initialize language model\n",
    "# - Creates ChatGroq instance with model \"Llama3-8b-8192\"\n",
    "# - Uses GROQ_API_KEY from environment for authentication\n",
    "# - Example: llm is configured to use Llama3-8b-8192 via Groq API\n",
    "# - Output: llm is a ChatGroq object ready for text generation\n",
    "llm = ChatGroq(model=\"Llama3-8b-8192\")\n",
    "\n",
    "# Dry Run: Initialize embeddings\n",
    "# - Creates HuggingFaceEmbeddings with model \"sentence-transformers/all-MiniLM-L6-v2\"\n",
    "# - This model converts text to 384-dimensional vectors for similarity search\n",
    "# - Example: Text \"Dogs are great companions\" -> vector [0.1, -0.2, ..., 0.3]\n",
    "# - Output: embeddings is an object for generating text embeddings\n",
    "embeddings = HuggingFaceEmbeddings(model_name=\"sentence-transformers/all-MiniLM-L6-v2\")\n",
    "\n",
    "# Dry Run: Create vector store\n",
    "# - Chroma.from_documents converts documents to embeddings and stores them\n",
    "# - Each document's page_content is embedded using embeddings model\n",
    "# - Example: \"Dogs are great companions...\" -> vector [0.1, -0.2, ..., 0.3] stored with metadata\n",
    "# - Output: vectorstore is a Chroma object containing 5 document embeddings\n",
    "vectorstore = Chroma.from_documents(documents, embeddings)\n",
    "\n",
    "# Dry Run: Define context formatting function\n",
    "# - Takes a list of Document objects and extracts page_content\n",
    "# - Joins page_content strings with newlines\n",
    "# - Example: Input [Document(page_content=\"Dogs are great...\")] -> \"Dogs are great...\"\n",
    "# - Output: A string containing concatenated document content\n",
    "def format_context(documents: List[Document]) -> str:\n",
    "    return \"\\n\".join(doc.page_content for doc in documents)\n",
    "\n",
    "# Dry Run: Create retriever\n",
    "# - vectorstore.as_retriever creates a retriever for similarity search\n",
    "# - search_type=\"similarity\" uses cosine similarity\n",
    "# - search_kwargs={'k': 1} returns top 1 matching document\n",
    "# - Example: Query \"Tell me about dogs\" -> retrieves Document about dogs\n",
    "# - Output: retriever is configured to fetch 1 document per query\n",
    "retriever = vectorstore.as_retriever(search_type=\"similarity\", search_kwargs={'k': 1})\n",
    "\n",
    "# Dry Run: Define prompt template\n",
    "# - Creates a ChatPromptTemplate with a human message\n",
    "# - Template instructs LLM to use only provided context, avoiding external knowledge\n",
    "# - Placeholders {question} and {context} will be filled dynamically\n",
    "# - Example: Template with question=\"Tell me about dogs\", context=\"Dogs are great...\"\n",
    "#   - Output: Formatted prompt string for LLM\n",
    "message = \"\"\"\n",
    "Answer the question using only the provided context. Do not use any external knowledge or make assumptions beyond the context.\n",
    "\n",
    "Question: {question}\n",
    "\n",
    "Context: {context}\n",
    "\"\"\"\n",
    "prompt = ChatPromptTemplate.from_template(message)\n",
    "\n",
    "# Dry Run: Create RAG chain\n",
    "# - Combines retriever, context formatting, question passthrough, prompt, and LLM\n",
    "# - Structure:\n",
    "#   - \"context\": retriever | format_context -> Retrieves document, converts to string\n",
    "#   - \"question\": RunnablePassthrough() -> Passes query as-is\n",
    "#   - Pipes to prompt, then to llm\n",
    "# - Example: Input \"Tell me about dogs\" -> Chain processes through steps below\n",
    "rag_chain = {\n",
    "    \"context\": retriever | format_context,\n",
    "    \"question\": RunnablePassthrough()\n",
    "} | prompt | llm\n",
    "\n",
    "# Dry Run: Invoke chain with query \"Tell me about dogs\"\n",
    "# - Step 1: Retriever\n",
    "#   - Query: \"Tell me about dogs\"\n",
    "#   - Converts query to embedding: [0.12, -0.18, ..., 0.29]\n",
    "#   - Searches vectorstore for closest document using cosine similarity\n",
    "#   - Finds: Document(page_content=\"Dogs are great companions, known for their loyalty and friendliness.\", metadata={\"source\": \"mammal-pets-doc\"})\n",
    "#   - Output: [Document(...)]\n",
    "# - Step 2: Format Context\n",
    "#   - Input: [Document(page_content=\"Dogs are great...\")]\n",
    "#   - format_context: Joins page_content -> \"Dogs are great companions, known for their loyalty and friendliness.\"\n",
    "#   - Output: String \"Dogs are great...\"\n",
    "# - Step 3: Chain Inputs\n",
    "#   - Creates dictionary:\n",
    "#     {\n",
    "#         \"context\": \"Dogs are great companions, known for their loyalty and friendliness.\",\n",
    "#         \"question\": \"Tell me about dogs\"\n",
    "#     }\n",
    "# - Step 4: Prompt Formatting\n",
    "#   - Fills template with context and question\n",
    "#   - Output:\n",
    "#     \"\"\"\n",
    "#     Answer the question using only the provided context. Do not use any external knowledge or make assumptions beyond the context.\n",
    "#\n",
    "#     Question: Tell me about dogs\n",
    "#\n",
    "#     Context: Dogs are great companions, known for their loyalty and friendliness.\n",
    "#     \"\"\"\n",
    "# - Step 5: LLM Invocation\n",
    "#   - Prompt sent to ChatGroq (Llama3-8b-8192)\n",
    "#   - LLM processes prompt, follows instruction to use only context\n",
    "#   - Generates response: \"Dogs are great companions, known for their loyalty and friendliness.\"\n",
    "# - Output: response.content contains the LLM's answer\n",
    "response = rag_chain.invoke(\"Tell me about dogs\")\n",
    "\n",
    "# Dry Run: Print response\n",
    "# - response.content is the LLM's output\n",
    "# - Expected Output: \"Dogs are great companions, known for their loyalty and friendliness.\"\n",
    "print(response.content)"
   ]
  }
 ],
 "metadata": {
  "kernelspec": {
   "display_name": ".venv",
   "language": "python",
   "name": "python3"
  },
  "language_info": {
   "codemirror_mode": {
    "name": "ipython",
    "version": 3
   },
   "file_extension": ".py",
   "mimetype": "text/x-python",
   "name": "python",
   "nbconvert_exporter": "python",
   "pygments_lexer": "ipython3",
   "version": "3.10.9"
  }
 },
 "nbformat": 4,
 "nbformat_minor": 5
}
