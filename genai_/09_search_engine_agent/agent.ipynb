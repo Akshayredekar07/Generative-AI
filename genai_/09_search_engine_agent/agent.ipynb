{
 "cells": [
  {
   "cell_type": "code",
   "execution_count": null,
   "id": "9f44d91a",
   "metadata": {},
   "outputs": [],
   "source": [
    "import os \n",
    "os.environ['HF_HOME'] = 'D:/huggingface_cache'\n",
    "os.environ['USER_AGENT'] = 'LangChain-Search-Agent/1.0'"
   ]
  },
  {
   "cell_type": "code",
   "execution_count": null,
   "id": "ac9435ff",
   "metadata": {},
   "outputs": [],
   "source": [
    "from langchain.tools import arxiv\n",
    "from langchain_community.tools import ArxivQueryRun, WikipediaQueryRun\n",
    "from langchain_community.utilities import WikipediaAPIWrapper, ArxivAPIWrapper "
   ]
  },
  {
   "cell_type": "code",
   "execution_count": null,
   "id": "24a8633d",
   "metadata": {},
   "outputs": [],
   "source": [
    "api_wrapper_wiki=WikipediaAPIWrapper(top_k_results=1, doc_content_chars_max=250, wiki_client=None)\n",
    "wiki=WikipediaQueryRun(api_wrapper=api_wrapper_wiki)\n",
    "wiki.name"
   ]
  },
  {
   "cell_type": "code",
   "execution_count": null,
   "id": "b69a2309",
   "metadata": {},
   "outputs": [],
   "source": [
    "api_wrapper_arxiv = ArxivAPIWrapper(\n",
    "    top_k_results=1, \n",
    "    doc_content_chars_max=250,\n",
    "    arxiv_search=None,  # Add this\n",
    "    arxiv_exceptions=None  # Add this\n",
    ")\n",
    "arxiv = ArxivQueryRun(api_wrapper=api_wrapper_arxiv)\n",
    "arxiv.name"
   ]
  },
  {
   "cell_type": "code",
   "execution_count": null,
   "id": "14c76794",
   "metadata": {},
   "outputs": [],
   "source": [
    "tools = [wiki, arxiv]"
   ]
  },
  {
   "cell_type": "code",
   "execution_count": null,
   "id": "aacdc002",
   "metadata": {},
   "outputs": [],
   "source": [
    "# Custom tools{RAG Tools}\n",
    "from langchain_community.document_loaders import WebBaseLoader\n",
    "from langchain_community.vectorstores import FAISS\n",
    "from langchain_text_splitters import RecursiveCharacterTextSplitter\n",
    "from langchain_ollama import OllamaEmbeddings"
   ]
  },
  {
   "cell_type": "code",
   "execution_count": null,
   "id": "77c16fc2",
   "metadata": {},
   "outputs": [],
   "source": [
    "loader=WebBaseLoader('https://docs.smith.langchain.com/')\n",
    "docs = loader.load()\n",
    "documents=RecursiveCharacterTextSplitter(chunk_size=1000, chunk_overlap=250).split_documents(docs)\n",
    "vectordb=FAISS.from_documents(documents, OllamaEmbeddings(model=\"nomic-embed-text\"))\n",
    "reteriever=vectordb.as_retriever()\n",
    "reteriever"
   ]
  },
  {
   "cell_type": "code",
   "execution_count": null,
   "id": "b6763734",
   "metadata": {},
   "outputs": [],
   "source": [
    "from langchain.tools.retriever import create_retriever_tool\n",
    "reteriever_tool=create_retriever_tool(reteriever,\"langsmith-search\", \"Search any information about langsmith\")\n",
    "reteriever_tool.name"
   ]
  },
  {
   "cell_type": "code",
   "execution_count": null,
   "id": "15a1b005",
   "metadata": {},
   "outputs": [],
   "source": [
    "tools = [wiki, arxiv, reteriever_tool]\n",
    "tools"
   ]
  },
  {
   "cell_type": "code",
   "execution_count": null,
   "id": "da881f36",
   "metadata": {},
   "outputs": [],
   "source": [
    "# Run all this tools with Agent and LLM models\n",
    "from langchain_ollama import ChatOllama\n",
    "llm = ChatOllama(model=\"llama3.2:1b\")"
   ]
  },
  {
   "cell_type": "code",
   "execution_count": null,
   "id": "481b73a2",
   "metadata": {},
   "outputs": [],
   "source": [
    "# prompt template\n",
    "from langchain import hub\n",
    "prompt = hub.pull(\"hwchase17/openai-functions-agent\")\n",
    "prompt.messages"
   ]
  },
  {
   "cell_type": "code",
   "execution_count": null,
   "id": "77e20c17",
   "metadata": {},
   "outputs": [],
   "source": [
    "# Agents\n",
    "from langchain.agents import create_tool_calling_agent\n",
    "agent = create_tool_calling_agent(llm, tools, prompt)\n",
    "agent"
   ]
  },
  {
   "cell_type": "code",
   "execution_count": null,
   "id": "574c6d68",
   "metadata": {},
   "outputs": [],
   "source": [
    "# Agent executor\n",
    "from langchain.agents import AgentExecutor \n",
    "agent_executor = AgentExecutor(agent=agent, tools=tools, verbose=True)\n",
    "agent"
   ]
  },
  {
   "cell_type": "code",
   "execution_count": null,
   "id": "6ede0808",
   "metadata": {},
   "outputs": [],
   "source": [
    "agent_executor.invoke({\"input\":\"Tell me about Langsmith\"})"
   ]
  },
  {
   "cell_type": "code",
   "execution_count": null,
   "id": "f8cb8326",
   "metadata": {},
   "outputs": [],
   "source": [
    "agent_executor.invoke({\"input\":\"Tell me about attention is all you need?\"})"
   ]
  },
  {
   "cell_type": "code",
   "execution_count": null,
   "id": "daa60095",
   "metadata": {},
   "outputs": [],
   "source": []
  }
 ],
 "metadata": {
  "kernelspec": {
   "display_name": ".venv",
   "language": "python",
   "name": "python3"
  },
  "language_info": {
   "codemirror_mode": {
    "name": "ipython",
    "version": 3
   },
   "file_extension": ".py",
   "mimetype": "text/x-python",
   "name": "python",
   "nbconvert_exporter": "python",
   "pygments_lexer": "ipython3",
   "version": "3.10.9"
  }
 },
 "nbformat": 4,
 "nbformat_minor": 5
}
